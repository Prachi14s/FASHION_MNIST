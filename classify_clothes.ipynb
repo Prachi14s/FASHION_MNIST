{
 "cells": [
  {
   "cell_type": "code",
   "execution_count": 4,
   "metadata": {},
   "outputs": [],
   "source": [
    "# FASHION MNIST\n",
    "# I will do this by different methods one by one:\n",
    "# 1) using tf.learn\n",
    "# 2) using plain tensorflow\n",
    "# 3) using CNN\n",
    "# 4) keras"
   ]
  },
  {
   "cell_type": "code",
   "execution_count": null,
   "metadata": {},
   "outputs": [],
   "source": []
  },
  {
   "cell_type": "code",
   "execution_count": 2,
   "metadata": {},
   "outputs": [],
   "source": [
    "# Common imports\n",
    "from __future__ import absolute_import, division, print_function, unicode_literals\n",
    "import numpy as np\n",
    "import os\n",
    "\n",
    "import tensorflow as tf\n",
    "import pandas as pd\n",
    "import numpy as np\n",
    "import matplotlib.pyplot as plt\n",
    "%matplotlib inline\n",
    "\n",
    "from tensorflow.keras import layers\n",
    "\n",
    "# to make this notebook's output stable across runs\n",
    "def reset_graph(seed=42):\n",
    "    tf.reset_default_graph()\n",
    "    tf.set_random_seed(seed)\n",
    "    np.random.seed(seed)"
   ]
  },
  {
   "cell_type": "code",
   "execution_count": 20,
   "metadata": {},
   "outputs": [
    {
     "name": "stdout",
     "output_type": "stream",
     "text": [
      "1.14.0\n",
      "2.2.4-tf\n"
     ]
    }
   ],
   "source": [
    "print(tf.VERSION)\n",
    "print(tf.keras.__version__)"
   ]
  },
  {
   "cell_type": "code",
   "execution_count": 21,
   "metadata": {},
   "outputs": [
    {
     "name": "stdout",
     "output_type": "stream",
     "text": [
      "Extracting /cxldata/datasets/project/fashion-mnist/train-images-idx3-ubyte.gz\n",
      "Extracting /cxldata/datasets/project/fashion-mnist/train-labels-idx1-ubyte.gz\n",
      "Extracting /cxldata/datasets/project/fashion-mnist/t10k-images-idx3-ubyte.gz\n",
      "Extracting /cxldata/datasets/project/fashion-mnist/t10k-labels-idx1-ubyte.gz\n"
     ]
    }
   ],
   "source": [
    "from tensorflow.examples.tutorials.mnist import input_data\n",
    "fashion_mnist = input_data.read_data_sets(\"/cxldata/datasets/project/fashion-mnist\")"
   ]
  },
  {
   "cell_type": "code",
   "execution_count": 22,
   "metadata": {},
   "outputs": [],
   "source": [
    "def plot_image(image):\n",
    "    plt.imshow(image, cmap=\"gray\", interpolation=\"nearest\")\n",
    "    plt.axis(\"off\")\n",
    "\n",
    "def plot_color_image(image):\n",
    "    plt.imshow(image.astype(np.uint8),interpolation=\"nearest\")\n",
    "    plt.axis(\"off\")"
   ]
  },
  {
   "cell_type": "code",
   "execution_count": 23,
   "metadata": {},
   "outputs": [],
   "source": [
    "# Method 1: tf.learn"
   ]
  },
  {
   "cell_type": "code",
   "execution_count": 24,
   "metadata": {},
   "outputs": [],
   "source": [
    "X_train = fashion_mnist.train.images\n",
    "X_test = fashion_mnist.test.images\n",
    "y_train = fashion_mnist.train.labels.astype(\"int\")\n",
    "y_test = fashion_mnist.test.labels.astype(\"int\")"
   ]
  },
  {
   "cell_type": "code",
   "execution_count": 25,
   "metadata": {},
   "outputs": [
    {
     "name": "stdout",
     "output_type": "stream",
     "text": [
      "The shape of X_train is (55000, 784)\n",
      "The shape of X_test is (10000, 784)\n",
      "The shape of y_train is (55000,)\n",
      "The shape of y_test is (10000,)\n"
     ]
    }
   ],
   "source": [
    "print(\"The shape of X_train is\", X_train.shape)\n",
    "print(\"The shape of X_test is\", X_test.shape)\n",
    "print(\"The shape of y_train is\", y_train.shape)\n",
    "print(\"The shape of y_test is\", y_test.shape)"
   ]
  },
  {
   "cell_type": "code",
   "execution_count": 26,
   "metadata": {},
   "outputs": [
    {
     "data": {
      "text/plain": [
       "<matplotlib.image.AxesImage at 0x7ff01af43da0>"
      ]
     },
     "execution_count": 26,
     "metadata": {},
     "output_type": "execute_result"
    },
    {
     "data": {
      "image/png": "[encoded data removed]",
      "text/plain": [
       "<Figure size 432x288 with 1 Axes>"
      ]
     },
     "metadata": {
      "needs_background": "light"
     },
     "output_type": "display_data"
    }
   ],
   "source": [
    "plt.imshow(X_train[1].reshape(28, -1))"
   ]
  },
  {
   "cell_type": "code",
   "execution_count": 27,
   "metadata": {},
   "outputs": [
    {
     "data": {
      "image/png": "[encoded data removed]",
      "text/plain": [
       "<Figure size 432x288 with 1 Axes>"
      ]
     },
     "metadata": {
      "needs_background": "light"
     },
     "output_type": "display_data"
    }
   ],
   "source": [
    "plot_image(X_train[1].reshape(28,-1))"
   ]
  },
  {
   "cell_type": "code",
   "execution_count": 28,
   "metadata": {},
   "outputs": [],
   "source": [
    "class_names = ['T-shirt/top', 'Trouser', 'Pullover', 'Dress', 'Coat',\n",
    "               'Sandal', 'Shirt', 'Sneaker', 'Bag', 'Ankle boot']\n",
    "\n",
    "#train_images = train_images/255.0\n",
    "#test_images = test_images/255.0"
   ]
  },
  {
   "cell_type": "code",
   "execution_count": 29,
   "metadata": {},
   "outputs": [
    {
     "data": {
      "text/plain": [
       "'T-shirt/top'"
      ]
     },
     "execution_count": 29,
     "metadata": {},
     "output_type": "execute_result"
    }
   ],
   "source": [
    "class_names[y_train[1]]"
   ]
  },
  {
   "cell_type": "code",
   "execution_count": 30,
   "metadata": {},
   "outputs": [],
   "source": [
    "# there fore it is showing same result "
   ]
  },
  {
   "cell_type": "code",
   "execution_count": 31,
   "metadata": {},
   "outputs": [
    {
     "name": "stderr",
     "output_type": "stream",
     "text": [
      "W0624 11:49:03.359251 140670801155904 estimator.py:453] Using temporary folder as model directory: /tmp/tmpso1r1ffw\n"
     ]
    },
    {
     "data": {
      "text/plain": [
       "SKCompat()"
      ]
     },
     "execution_count": 31,
     "metadata": {},
     "output_type": "execute_result"
    }
   ],
   "source": [
    "import tensorflow as tf\n",
    "\n",
    "config = tf.contrib.learn.RunConfig(tf_random_seed=42) # not shown in the config\n",
    "\n",
    "feature_cols = tf.contrib.learn.infer_real_valued_columns_from_input(X_train)\n",
    "dnn_clf = tf.contrib.learn.DNNClassifier(hidden_units=[200, 200, 200], n_classes=10,\n",
    "                                         feature_columns=feature_cols, config=config)\n",
    "dnn_clf = tf.contrib.learn.SKCompat(dnn_clf) # if TensorFlow >= 1.1\n",
    "dnn_clf.fit(X_train, y_train, batch_size=50, steps=30000)"
   ]
  },
  {
   "cell_type": "code",
   "execution_count": 32,
   "metadata": {},
   "outputs": [
    {
     "data": {
      "text/plain": [
       "[_RealValuedColumn(column_name='', dimension=784, default_value=None, dtype=tf.float32, normalizer=None)]"
      ]
     },
     "execution_count": 32,
     "metadata": {},
     "output_type": "execute_result"
    }
   ],
   "source": [
    "feature_cols"
   ]
  },
  {
   "cell_type": "code",
   "execution_count": 33,
   "metadata": {},
   "outputs": [
    {
     "data": {
      "text/plain": [
       "0.8918"
      ]
     },
     "execution_count": 33,
     "metadata": {},
     "output_type": "execute_result"
    }
   ],
   "source": [
    "from sklearn.metrics import accuracy_score\n",
    "\n",
    "y_pred = dnn_clf.predict(X_test)\n",
    "accuracy_score(y_test, y_pred['classes'])"
   ]
  },
  {
   "cell_type": "code",
   "execution_count": 34,
   "metadata": {},
   "outputs": [
    {
     "name": "stdout",
     "output_type": "stream",
     "text": [
      "Index of wrong prediction is 12\n",
      "Predicted is Sandal\n",
      "Predicted is Sneaker\n",
      "-----\n",
      "Index of wrong prediction is 17\n",
      "Predicted is Pullover\n",
      "Predicted is Coat\n",
      "-----\n",
      "Index of wrong prediction is 23\n",
      "Predicted is Sandal\n",
      "Predicted is Ankle boot\n",
      "-----\n",
      "Index of wrong prediction is 25\n",
      "Predicted is Pullover\n",
      "Predicted is Coat\n",
      "-----\n",
      "Index of wrong prediction is 40\n",
      "Predicted is T-shirt/top\n",
      "Predicted is Shirt\n",
      "-----\n",
      "Index of wrong prediction is 42\n",
      "Predicted is Shirt\n",
      "Predicted is Dress\n",
      "-----\n",
      "Index of wrong prediction is 43\n",
      "Predicted is Ankle boot\n",
      "Predicted is Sneaker\n",
      "-----\n",
      "Index of wrong prediction is 49\n",
      "Predicted is Shirt\n",
      "Predicted is Pullover\n",
      "-----\n",
      "Index of wrong prediction is 51\n",
      "Predicted is Pullover\n",
      "Predicted is Coat\n",
      "-----\n",
      "Index of wrong prediction is 57\n",
      "Predicted is Shirt\n",
      "Predicted is Coat\n",
      "-----\n",
      "Index of wrong prediction is 66\n",
      "Predicted is Dress\n",
      "Predicted is Pullover\n",
      "-----\n",
      "Index of wrong prediction is 67\n",
      "Predicted is Coat\n",
      "Predicted is Dress\n",
      "-----\n",
      "Index of wrong prediction is 68\n",
      "Predicted is Sneaker\n",
      "Predicted is Ankle boot\n",
      "-----\n",
      "Index of wrong prediction is 89\n",
      "Predicted is Pullover\n",
      "Predicted is Shirt\n",
      "-----\n",
      "Index of wrong prediction is 98\n",
      "Predicted is Pullover\n",
      "Predicted is Coat\n",
      "-----\n",
      "Index of wrong prediction is 103\n",
      "Predicted is Shirt\n",
      "Predicted is Pullover\n",
      "-----\n",
      "Index of wrong prediction is 120\n",
      "Predicted is Dress\n",
      "Predicted is T-shirt/top\n",
      "-----\n",
      "Index of wrong prediction is 127\n",
      "Predicted is Pullover\n",
      "Predicted is Coat\n",
      "-----\n",
      "Index of wrong prediction is 136\n",
      "Predicted is Shirt\n",
      "Predicted is Pullover\n",
      "-----\n",
      "Index of wrong prediction is 147\n",
      "Predicted is Dress\n",
      "Predicted is Shirt\n",
      "-----\n",
      "Index of wrong prediction is 150\n",
      "Predicted is Dress\n",
      "Predicted is Coat\n",
      "-----\n",
      "Index of wrong prediction is 153\n",
      "Predicted is Dress\n",
      "Predicted is Coat\n",
      "-----\n",
      "Index of wrong prediction is 166\n",
      "Predicted is Pullover\n",
      "Predicted is Coat\n",
      "-----\n",
      "Index of wrong prediction is 172\n",
      "Predicted is Shirt\n",
      "Predicted is Pullover\n",
      "-----\n",
      "Index of wrong prediction is 192\n",
      "Predicted is Dress\n",
      "Predicted is Trouser\n",
      "-----\n",
      "Index of wrong prediction is 239\n",
      "Predicted is Pullover\n",
      "Predicted is Coat\n",
      "-----\n",
      "Index of wrong prediction is 244\n",
      "Predicted is Pullover\n",
      "Predicted is Shirt\n",
      "-----\n",
      "Index of wrong prediction is 247\n",
      "Predicted is Pullover\n",
      "Predicted is Coat\n",
      "-----\n",
      "Index of wrong prediction is 252\n",
      "Predicted is T-shirt/top\n",
      "Predicted is Shirt\n",
      "-----\n",
      "Index of wrong prediction is 282\n",
      "Predicted is Pullover\n",
      "Predicted is Shirt\n",
      "-----\n",
      "Index of wrong prediction is 283\n",
      "Predicted is Coat\n",
      "Predicted is Dress\n",
      "-----\n",
      "Index of wrong prediction is 286\n",
      "Predicted is T-shirt/top\n",
      "Predicted is Shirt\n",
      "-----\n",
      "Index of wrong prediction is 309\n",
      "Predicted is Ankle boot\n",
      "Predicted is Sneaker\n",
      "-----\n",
      "Index of wrong prediction is 316\n",
      "Predicted is Sneaker\n",
      "Predicted is Ankle boot\n",
      "-----\n",
      "Index of wrong prediction is 322\n",
      "Predicted is T-shirt/top\n",
      "Predicted is Shirt\n",
      "-----\n",
      "Index of wrong prediction is 324\n",
      "Predicted is Shirt\n",
      "Predicted is Coat\n",
      "-----\n",
      "Index of wrong prediction is 344\n",
      "Predicted is T-shirt/top\n",
      "Predicted is Shirt\n",
      "-----\n",
      "Index of wrong prediction is 361\n",
      "Predicted is Shirt\n",
      "Predicted is Pullover\n",
      "-----\n",
      "Index of wrong prediction is 374\n",
      "Predicted is Shirt\n",
      "Predicted is T-shirt/top\n",
      "-----\n",
      "Index of wrong prediction is 378\n",
      "Predicted is Dress\n",
      "Predicted is Coat\n",
      "-----\n",
      "Index of wrong prediction is 381\n",
      "Predicted is Shirt\n",
      "Predicted is T-shirt/top\n",
      "-----\n",
      "Index of wrong prediction is 382\n",
      "Predicted is T-shirt/top\n",
      "Predicted is Pullover\n",
      "-----\n",
      "Index of wrong prediction is 394\n",
      "Predicted is Shirt\n",
      "Predicted is Pullover\n",
      "-----\n",
      "Index of wrong prediction is 396\n",
      "Predicted is Shirt\n",
      "Predicted is Coat\n",
      "-----\n",
      "Index of wrong prediction is 404\n",
      "Predicted is Dress\n",
      "Predicted is Coat\n",
      "-----\n",
      "Index of wrong prediction is 405\n",
      "Predicted is Shirt\n",
      "Predicted is Coat\n",
      "-----\n",
      "Index of wrong prediction is 406\n",
      "Predicted is Pullover\n",
      "Predicted is Shirt\n",
      "-----\n",
      "Index of wrong prediction is 409\n",
      "Predicted is T-shirt/top\n",
      "Predicted is Trouser\n",
      "-----\n",
      "Index of wrong prediction is 413\n",
      "Predicted is Shirt\n",
      "Predicted is Pullover\n",
      "-----\n",
      "Index of wrong prediction is 419\n",
      "Predicted is Pullover\n",
      "Predicted is Coat\n",
      "-----\n",
      "Index of wrong prediction is 441\n",
      "Predicted is Sneaker\n",
      "Predicted is Ankle boot\n",
      "-----\n",
      "Index of wrong prediction is 454\n",
      "Predicted is Pullover\n",
      "Predicted is T-shirt/top\n",
      "-----\n",
      "Index of wrong prediction is 457\n",
      "Predicted is Coat\n",
      "Predicted is Pullover\n",
      "-----\n",
      "Index of wrong prediction is 460\n",
      "Predicted is T-shirt/top\n",
      "Predicted is Dress\n",
      "-----\n",
      "Index of wrong prediction is 474\n",
      "Predicted is T-shirt/top\n",
      "Predicted is Shirt\n",
      "-----\n",
      "Index of wrong prediction is 475\n",
      "Predicted is Pullover\n",
      "Predicted is Coat\n",
      "-----\n",
      "Index of wrong prediction is 510\n",
      "Predicted is Pullover\n",
      "Predicted is Coat\n",
      "-----\n",
      "Index of wrong prediction is 511\n",
      "Predicted is Coat\n",
      "Predicted is Pullover\n",
      "-----\n",
      "Index of wrong prediction is 526\n",
      "Predicted is Pullover\n",
      "Predicted is Coat\n",
      "-----\n",
      "Index of wrong prediction is 529\n",
      "Predicted is T-shirt/top\n",
      "Predicted is Bag\n",
      "-----\n",
      "Index of wrong prediction is 531\n",
      "Predicted is Sandal\n",
      "Predicted is T-shirt/top\n",
      "-----\n",
      "Index of wrong prediction is 548\n",
      "Predicted is Coat\n",
      "Predicted is Shirt\n",
      "-----\n",
      "Index of wrong prediction is 563\n",
      "Predicted is T-shirt/top\n",
      "Predicted is Shirt\n",
      "-----\n",
      "Index of wrong prediction is 565\n",
      "Predicted is T-shirt/top\n",
      "Predicted is Shirt\n",
      "-----\n",
      "Index of wrong prediction is 572\n",
      "Predicted is T-shirt/top\n",
      "Predicted is Shirt\n",
      "-----\n",
      "Index of wrong prediction is 584\n",
      "Predicted is Shirt\n",
      "Predicted is Dress\n",
      "-----\n",
      "Index of wrong prediction is 586\n",
      "Predicted is T-shirt/top\n",
      "Predicted is Shirt\n",
      "-----\n",
      "Index of wrong prediction is 594\n",
      "Predicted is Dress\n",
      "Predicted is Coat\n",
      "-----\n",
      "Index of wrong prediction is 607\n",
      "Predicted is Shirt\n",
      "Predicted is Dress\n",
      "-----\n",
      "Index of wrong prediction is 635\n",
      "Predicted is Pullover\n",
      "Predicted is Bag\n",
      "-----\n",
      "Index of wrong prediction is 639\n",
      "Predicted is Pullover\n",
      "Predicted is Coat\n",
      "-----\n",
      "Index of wrong prediction is 659\n",
      "Predicted is Pullover\n",
      "Predicted is Coat\n",
      "-----\n",
      "Index of wrong prediction is 665\n",
      "Predicted is Pullover\n",
      "Predicted is Coat\n",
      "-----\n",
      "Index of wrong prediction is 669\n",
      "Predicted is T-shirt/top\n",
      "Predicted is Bag\n",
      "-----\n",
      "Index of wrong prediction is 670\n",
      "Predicted is Shirt\n",
      "Predicted is Pullover\n",
      "-----\n",
      "Index of wrong prediction is 681\n",
      "Predicted is Shirt\n",
      "Predicted is T-shirt/top\n",
      "-----\n",
      "Index of wrong prediction is 688\n",
      "Predicted is Shirt\n",
      "Predicted is Dress\n",
      "-----\n",
      "Index of wrong prediction is 689\n",
      "Predicted is Pullover\n",
      "Predicted is Coat\n",
      "-----\n",
      "Index of wrong prediction is 711\n",
      "Predicted is Dress\n",
      "Predicted is Shirt\n",
      "-----\n",
      "Index of wrong prediction is 716\n",
      "Predicted is Coat\n",
      "Predicted is Shirt\n",
      "-----\n",
      "Index of wrong prediction is 722\n",
      "Predicted is Sneaker\n",
      "Predicted is Sandal\n",
      "-----\n",
      "Index of wrong prediction is 725\n",
      "Predicted is Coat\n",
      "Predicted is Shirt\n",
      "-----\n",
      "Index of wrong prediction is 732\n",
      "Predicted is T-shirt/top\n",
      "Predicted is Pullover\n",
      "-----\n",
      "Index of wrong prediction is 753\n",
      "Predicted is T-shirt/top\n",
      "Predicted is Dress\n",
      "-----\n",
      "Index of wrong prediction is 760\n",
      "Predicted is Shirt\n",
      "Predicted is Pullover\n",
      "-----\n",
      "Index of wrong prediction is 761\n",
      "Predicted is Pullover\n",
      "Predicted is Shirt\n",
      "-----\n",
      "Index of wrong prediction is 779\n",
      "Predicted is Pullover\n",
      "Predicted is Coat\n",
      "-----\n",
      "Index of wrong prediction is 787\n",
      "Predicted is Dress\n",
      "Predicted is Trouser\n",
      "-----\n",
      "Index of wrong prediction is 800\n",
      "Predicted is Ankle boot\n",
      "Predicted is Sneaker\n",
      "-----\n",
      "Index of wrong prediction is 805\n",
      "Predicted is Pullover\n",
      "Predicted is Coat\n",
      "-----\n",
      "Index of wrong prediction is 830\n",
      "Predicted is Shirt\n",
      "Predicted is Coat\n",
      "-----\n",
      "Index of wrong prediction is 851\n",
      "Predicted is Shirt\n",
      "Predicted is Pullover\n",
      "-----\n",
      "Index of wrong prediction is 870\n",
      "Predicted is Shirt\n",
      "Predicted is Pullover\n",
      "-----\n",
      "Index of wrong prediction is 875\n",
      "Predicted is Pullover\n",
      "Predicted is Coat\n",
      "-----\n",
      "Index of wrong prediction is 881\n",
      "Predicted is Shirt\n",
      "Predicted is T-shirt/top\n",
      "-----\n",
      "Index of wrong prediction is 902\n",
      "Predicted is Sneaker\n",
      "Predicted is Sandal\n",
      "-----\n",
      "Index of wrong prediction is 905\n",
      "Predicted is Shirt\n",
      "Predicted is Coat\n",
      "-----\n",
      "Index of wrong prediction is 909\n",
      "Predicted is Pullover\n",
      "Predicted is Shirt\n",
      "-----\n",
      "Index of wrong prediction is 920\n",
      "Predicted is Coat\n",
      "Predicted is Bag\n",
      "-----\n",
      "Index of wrong prediction is 921\n",
      "Predicted is Coat\n",
      "Predicted is Shirt\n",
      "-----\n",
      "Index of wrong prediction is 926\n",
      "Predicted is Shirt\n",
      "Predicted is T-shirt/top\n",
      "-----\n",
      "Index of wrong prediction is 930\n",
      "Predicted is Bag\n",
      "Predicted is T-shirt/top\n",
      "-----\n",
      "Index of wrong prediction is 935\n",
      "Predicted is Shirt\n",
      "Predicted is Coat\n",
      "-----\n",
      "Index of wrong prediction is 956\n",
      "Predicted is Pullover\n",
      "Predicted is Shirt\n",
      "-----\n",
      "Index of wrong prediction is 960\n",
      "Predicted is Pullover\n",
      "Predicted is Dress\n",
      "-----\n",
      "Index of wrong prediction is 965\n",
      "Predicted is Shirt\n",
      "Predicted is T-shirt/top\n",
      "-----\n",
      "Index of wrong prediction is 971\n",
      "Predicted is T-shirt/top\n",
      "Predicted is Shirt\n",
      "-----\n",
      "Index of wrong prediction is 976\n",
      "Predicted is Coat\n",
      "Predicted is Pullover\n",
      "-----\n",
      "Index of wrong prediction is 977\n",
      "Predicted is T-shirt/top\n",
      "Predicted is Shirt\n",
      "-----\n",
      "Index of wrong prediction is 979\n",
      "Predicted is T-shirt/top\n",
      "Predicted is Dress\n",
      "-----\n",
      "Index of wrong prediction is 994\n",
      "Predicted is Pullover\n",
      "Predicted is Coat\n",
      "-----\n",
      "Index of wrong prediction is 1000\n",
      "Predicted is Shirt\n",
      "Predicted is T-shirt/top\n",
      "-----\n",
      "Index of wrong prediction is 1005\n",
      "Predicted is Coat\n",
      "Predicted is T-shirt/top\n",
      "-----\n"
     ]
    }
   ],
   "source": [
    "# printing index of those images which are not prdicted correctly\n",
    "a = y_test == y_pred['classes']\n",
    "i = 0;\n",
    "for j in a:\n",
    "    if j == 0:\n",
    "        print(\"Index of wrong prediction is\",i)\n",
    "        #print(\"Predicted:\")\n",
    "        #print(class_names(y_pred['classes'][i]))\n",
    "        print(\"Predicted is \" + class_names[y_pred['classes'][i]])\n",
    "        #print(\"Actual:\")\n",
    "        #print(class_names(y_test[i]))\n",
    "        print(\"Predicted is \" + class_names[y_test[i]])\n",
    "        print(\"-----\")\n",
    "        if i > 1000:\n",
    "            break\n",
    "    i += 1\n",
    "\n"
   ]
  },
  {
   "cell_type": "code",
   "execution_count": 35,
   "metadata": {},
   "outputs": [],
   "source": [
    "# lets check randomly any one of above result"
   ]
  },
  {
   "cell_type": "code",
   "execution_count": 36,
   "metadata": {},
   "outputs": [
    {
     "data": {
      "text/plain": [
       "<matplotlib.image.AxesImage at 0x7ff01a8664a8>"
      ]
     },
     "execution_count": 36,
     "metadata": {},
     "output_type": "execute_result"
    },
    {
     "data": {
      "image/png": "[encoded data removed]",
      "text/plain": [
       "<Figure size 432x288 with 1 Axes>"
      ]
     },
     "metadata": {
      "needs_background": "light"
     },
     "output_type": "display_data"
    }
   ],
   "source": [
    "plt.imshow(X_test[23].reshape(28, -1))"
   ]
  },
  {
   "cell_type": "code",
   "execution_count": 39,
   "metadata": {},
   "outputs": [
    {
     "data": {
      "text/plain": [
       "'Ankle boot'"
      ]
     },
     "execution_count": 39,
     "metadata": {},
     "output_type": "execute_result"
    }
   ],
   "source": [
    "class_names[y_test[23]]"
   ]
  },
  {
   "cell_type": "code",
   "execution_count": 40,
   "metadata": {},
   "outputs": [],
   "source": [
    "# This means it is predicted correctly\n",
    "# So here completed our first method i.e. tf.learn with 89.18% accuracy"
   ]
  },
  {
   "cell_type": "code",
   "execution_count": 41,
   "metadata": {},
   "outputs": [],
   "source": [
    "# Method 2: Plain tensorflow"
   ]
  },
  {
   "cell_type": "code",
   "execution_count": 42,
   "metadata": {},
   "outputs": [
    {
     "data": {
      "text/plain": [
       "784"
      ]
     },
     "execution_count": 42,
     "metadata": {},
     "output_type": "execute_result"
    }
   ],
   "source": [
    "len(X_train[0]) # lets check no. of features per image"
   ]
  },
  {
   "cell_type": "code",
   "execution_count": 43,
   "metadata": {},
   "outputs": [],
   "source": [
    "import tensorflow as tf   # created hidden layers\n",
    "\n",
    "n_inputs = 28*28  # MNIST\n",
    "n_hidden1 = 150\n",
    "n_hidden2 = 150\n",
    "n_outputs = 10\n"
   ]
  },
  {
   "cell_type": "code",
   "execution_count": 44,
   "metadata": {},
   "outputs": [],
   "source": [
    "# defining placeholders"
   ]
  },
  {
   "cell_type": "code",
   "execution_count": 45,
   "metadata": {},
   "outputs": [],
   "source": [
    "reset_graph()\n",
    "\n",
    "X = tf.placeholder(tf.float32, shape=(None, n_inputs), name=\"X\")\n",
    "y = tf.placeholder(tf.int64, shape=(None), name=\"y\")"
   ]
  },
  {
   "cell_type": "code",
   "execution_count": 46,
   "metadata": {},
   "outputs": [],
   "source": [
    "# Let's define a function for creating the layers of out DNN"
   ]
  },
  {
   "cell_type": "code",
   "execution_count": 47,
   "metadata": {},
   "outputs": [],
   "source": [
    "# Defining a neuron layer with its equation i.e. (z=x*w+b) along with its activation function and standard deviation)\n",
    "def neuron_layer(X, n_neurons, name, activation=None):\n",
    "    with tf.name_scope(name):\n",
    "        n_inputs = int(X.get_shape()[1])\n",
    "        stddev = 2 / np.sqrt(n_inputs)\n",
    "        init = tf.truncated_normal((n_inputs, n_neurons), stddev=stddev)\n",
    "        W = tf.Variable(init, name=\"kernel\")\n",
    "        b = tf.Variable(tf.zeros([n_neurons]), name=\"bias\")\n",
    "        Z = tf.matmul(X, W) + b\n",
    "        if activation is not None:\n",
    "            return activation(Z)\n",
    "        else:\n",
    "            return Z"
   ]
  },
  {
   "cell_type": "code",
   "execution_count": 48,
   "metadata": {},
   "outputs": [],
   "source": [
    "# defining hidden layers and output layer with their inputs as previous layers for each succeding layer \n",
    "with tf.name_scope(\"dnn\"):\n",
    "    hidden1 = neuron_layer(X, n_hidden1, name=\"hidden1\",\n",
    "                           activation=tf.nn.relu)\n",
    "    hidden2 = neuron_layer(hidden1, n_hidden2, name=\"hidden2\",\n",
    "                           activation=tf.nn.relu)\n",
    "    logits = neuron_layer(hidden2, n_outputs, name=\"outputs\")"
   ]
  },
  {
   "cell_type": "code",
   "execution_count": 49,
   "metadata": {},
   "outputs": [],
   "source": [
    "# We can use dense layer from tensorflow instead of creating our on neuron layer"
   ]
  },
  {
   "cell_type": "code",
   "execution_count": 50,
   "metadata": {},
   "outputs": [],
   "source": [
    "reset_graph()\n",
    "\n",
    "X = tf.placeholder(tf.float32, shape=(None, n_inputs), name=\"X\")\n",
    "y = tf.placeholder(tf.int64, shape=(None), name=\"y\")"
   ]
  },
  {
   "cell_type": "code",
   "execution_count": 51,
   "metadata": {},
   "outputs": [
    {
     "name": "stderr",
     "output_type": "stream",
     "text": [
      "W0624 11:55:24.118793 140670801155904 deprecation.py:323] From <ipython-input-51-56996712a747>:3: dense (from tensorflow.python.layers.core) is deprecated and will be removed in a future version.\n",
      "Instructions for updating:\n",
      "Use keras.layers.dense instead.\n",
      "W0624 11:55:24.122505 140670801155904 deprecation.py:506] From /usr/local/anaconda/lib/python3.6/site-packages/tensorflow/python/ops/init_ops.py:1251: calling VarianceScaling.__init__ (from tensorflow.python.ops.init_ops) with dtype is deprecated and will be removed in a future version.\n",
      "Instructions for updating:\n",
      "Call initializer instance with the dtype argument instead of passing it to the constructor\n"
     ]
    }
   ],
   "source": [
    "with tf.name_scope(\"dnn\"):\n",
    "    hidden1 = tf.layers.dense(X, n_hidden1, name=\"hidden1\",\n",
    "                          activation=tf.nn.relu)\n",
    "    hidden2 = tf.layers.dense(hidden1, n_hidden2, name=\"hidden2\",\n",
    "                          activation=tf.nn.relu)\n",
    "    logits = tf.layers.dense(hidden2, n_outputs, name=\"outputs\")"
   ]
  },
  {
   "cell_type": "code",
   "execution_count": 52,
   "metadata": {},
   "outputs": [],
   "source": [
    "# Afetr defining layers of neural network, we have to define loss function"
   ]
  },
  {
   "cell_type": "code",
   "execution_count": 53,
   "metadata": {},
   "outputs": [],
   "source": [
    "with tf.name_scope(\"loss\"):\n",
    "    xentropy = tf.nn.sparse_softmax_cross_entropy_with_logits(labels=y,logits=logits)\n",
    "    loss = tf.reduce_mean(xentropy, name=\"loss\")"
   ]
  },
  {
   "cell_type": "code",
   "execution_count": 54,
   "metadata": {},
   "outputs": [],
   "source": [
    "# Defining gradient descent optimizer for better results"
   ]
  },
  {
   "cell_type": "code",
   "execution_count": 55,
   "metadata": {},
   "outputs": [],
   "source": [
    "learning_rate = 0.01\n",
    "\n",
    "with tf.name_scope(\"train\"):\n",
    "    optimizer = tf.train.GradientDescentOptimizer(learning_rate)\n",
    "    training_op = optimizer.minimize(loss)"
   ]
  },
  {
   "cell_type": "code",
   "execution_count": 56,
   "metadata": {},
   "outputs": [],
   "source": [
    "# Evaluation of model"
   ]
  },
  {
   "cell_type": "code",
   "execution_count": 57,
   "metadata": {},
   "outputs": [],
   "source": [
    "with tf.name_scope(\"eval\"):\n",
    "    correct = tf.nn.in_top_k(logits, y, 1)\n",
    "    accuracy = tf.reduce_mean(tf.cast(correct, tf.float32))"
   ]
  },
  {
   "cell_type": "code",
   "execution_count": 58,
   "metadata": {},
   "outputs": [],
   "source": [
    "# Initialize the variables and create a saver"
   ]
  },
  {
   "cell_type": "code",
   "execution_count": 59,
   "metadata": {},
   "outputs": [],
   "source": [
    "init = tf.global_variables_initializer()\n",
    "saver = tf.train.Saver()"
   ]
  },
  {
   "cell_type": "code",
   "execution_count": 60,
   "metadata": {},
   "outputs": [],
   "source": [
    "# defining no. of epochs and batch size\n",
    "n_epochs = 40  # experimented with different no. of epochs and here at this point maximum accuracy obtained on eval data\n",
    "batch_size = 50"
   ]
  },
  {
   "cell_type": "code",
   "execution_count": 61,
   "metadata": {},
   "outputs": [
    {
     "name": "stdout",
     "output_type": "stream",
     "text": [
      "0 Train accuracy: 0.72 Val accuracy: 0.8196\n",
      "1 Train accuracy: 0.84 Val accuracy: 0.8348\n",
      "2 Train accuracy: 0.9 Val accuracy: 0.8366\n",
      "3 Train accuracy: 0.82 Val accuracy: 0.8522\n",
      "4 Train accuracy: 0.8 Val accuracy: 0.852\n",
      "5 Train accuracy: 0.9 Val accuracy: 0.8484\n",
      "6 Train accuracy: 0.88 Val accuracy: 0.866\n",
      "7 Train accuracy: 0.82 Val accuracy: 0.8664\n",
      "8 Train accuracy: 0.82 Val accuracy: 0.866\n",
      "9 Train accuracy: 0.92 Val accuracy: 0.8714\n",
      "10 Train accuracy: 0.92 Val accuracy: 0.867\n",
      "11 Train accuracy: 0.96 Val accuracy: 0.8738\n",
      "12 Train accuracy: 0.86 Val accuracy: 0.8732\n",
      "13 Train accuracy: 0.96 Val accuracy: 0.8758\n",
      "14 Train accuracy: 0.88 Val accuracy: 0.8762\n",
      "15 Train accuracy: 0.92 Val accuracy: 0.8754\n",
      "16 Train accuracy: 0.92 Val accuracy: 0.881\n",
      "17 Train accuracy: 0.96 Val accuracy: 0.877\n",
      "18 Train accuracy: 0.96 Val accuracy: 0.8772\n",
      "19 Train accuracy: 0.94 Val accuracy: 0.8828\n",
      "20 Train accuracy: 0.96 Val accuracy: 0.882\n",
      "21 Train accuracy: 0.92 Val accuracy: 0.8824\n",
      "22 Train accuracy: 0.9 Val accuracy: 0.8796\n",
      "23 Train accuracy: 0.92 Val accuracy: 0.887\n",
      "24 Train accuracy: 0.92 Val accuracy: 0.8832\n",
      "25 Train accuracy: 0.88 Val accuracy: 0.8824\n",
      "26 Train accuracy: 0.96 Val accuracy: 0.8856\n",
      "27 Train accuracy: 0.82 Val accuracy: 0.8842\n",
      "28 Train accuracy: 0.94 Val accuracy: 0.8854\n",
      "29 Train accuracy: 0.94 Val accuracy: 0.8888\n",
      "30 Train accuracy: 0.94 Val accuracy: 0.8858\n",
      "31 Train accuracy: 0.98 Val accuracy: 0.8884\n",
      "32 Train accuracy: 0.92 Val accuracy: 0.889\n",
      "33 Train accuracy: 0.96 Val accuracy: 0.8872\n",
      "34 Train accuracy: 0.98 Val accuracy: 0.8894\n",
      "35 Train accuracy: 0.94 Val accuracy: 0.8882\n",
      "36 Train accuracy: 0.94 Val accuracy: 0.8906\n",
      "37 Train accuracy: 0.9 Val accuracy: 0.8894\n",
      "38 Train accuracy: 0.9 Val accuracy: 0.8876\n",
      "39 Train accuracy: 0.96 Val accuracy: 0.8876\n"
     ]
    }
   ],
   "source": [
    "# Ttrain the model\n",
    "\n",
    "with tf.Session() as sess:\n",
    "    init.run()\n",
    "    for epoch in range(n_epochs):\n",
    "        for iteration in range(fashion_mnist.train.num_examples // batch_size):\n",
    "            X_batch, y_batch = fashion_mnist.train.next_batch(batch_size)\n",
    "            sess.run(training_op, feed_dict={X: X_batch, y: y_batch})\n",
    "        acc_train = accuracy.eval(feed_dict={X: X_batch, y: y_batch})\n",
    "        acc_val = accuracy.eval(feed_dict={X: fashion_mnist.validation.images,\n",
    "                                            y: fashion_mnist.validation.labels})\n",
    "        print(epoch, \"Train accuracy:\", acc_train, \"Val accuracy:\", acc_val)\n",
    "\n",
    "    save_path = saver.save(sess, \"model_ckps/my_model_trial.ckpt\")"
   ]
  },
  {
   "cell_type": "code",
   "execution_count": 62,
   "metadata": {},
   "outputs": [],
   "source": [
    "# This second method of plain tensorflow is giving 89.20% accuracy , lets reuse this from where we stored this model"
   ]
  },
  {
   "cell_type": "code",
   "execution_count": 63,
   "metadata": {},
   "outputs": [],
   "source": [
    "with tf.Session() as sess:\n",
    "    saver.restore(sess, \"model_ckps/my_model_trial.ckpt\") # or better, use save_path\n",
    "    X_new_scaled = fashion_mnist.test.images[:20]\n",
    "    Z = logits.eval(feed_dict={X: X_new_scaled})\n",
    "    y_pred2 = np.argmax(Z, axis=1)"
   ]
  },
  {
   "cell_type": "code",
   "execution_count": 64,
   "metadata": {},
   "outputs": [
    {
     "data": {
      "text/plain": [
       "array([9, 2, 1, 1, 6, 1, 4, 6, 5, 7, 4, 5, 5, 3, 4, 1, 2, 2, 8, 0])"
      ]
     },
     "execution_count": 64,
     "metadata": {},
     "output_type": "execute_result"
    }
   ],
   "source": [
    "y_pred2"
   ]
  },
  {
   "cell_type": "code",
   "execution_count": 65,
   "metadata": {},
   "outputs": [
    {
     "name": "stdout",
     "output_type": "stream",
     "text": [
      "total 596\r\n",
      "-rw-r--r-- 1 prachijindal0055855 prachijindal0055855     95 Jun 24 11:56 checkpoint\r\n",
      "-rw-r--r-- 1 prachijindal0055855 prachijindal0055855 567640 Jun 24 11:56 my_model_trial.ckpt.data-00000-of-00001\r\n",
      "-rw-r--r-- 1 prachijindal0055855 prachijindal0055855    304 Jun 24 11:56 my_model_trial.ckpt.index\r\n",
      "-rw-r--r-- 1 prachijindal0055855 prachijindal0055855  30950 Jun 24 11:56 my_model_trial.ckpt.meta\r\n"
     ]
    }
   ],
   "source": [
    "!ls -l model_ckps/"
   ]
  },
  {
   "cell_type": "code",
   "execution_count": 66,
   "metadata": {},
   "outputs": [
    {
     "name": "stdout",
     "output_type": "stream",
     "text": [
      "Predicted classes: [9 2 1 1 6 1 4 6 5 7 4 5 5 3 4 1 2 2 8 0]\n",
      "Actual classes:    [9 2 1 1 6 1 4 6 5 7 4 5 7 3 4 1 2 4 8 0]\n"
     ]
    }
   ],
   "source": [
    "print(\"Predicted classes:\", y_pred2)\n",
    "print(\"Actual classes:   \", fashion_mnist.test.labels[:20])"
   ]
  },
  {
   "cell_type": "code",
   "execution_count": null,
   "metadata": {},
   "outputs": [],
   "source": []
  },
  {
   "cell_type": "code",
   "execution_count": null,
   "metadata": {},
   "outputs": [],
   "source": []
  },
  {
   "cell_type": "code",
   "execution_count": 67,
   "metadata": {},
   "outputs": [],
   "source": [
    "# Method 3: CNN"
   ]
  },
  {
   "cell_type": "code",
   "execution_count": 68,
   "metadata": {},
   "outputs": [],
   "source": [
    "height = 28\n",
    "width = 28\n",
    "channels = 1\n",
    "n_inputs = height * width"
   ]
  },
  {
   "cell_type": "code",
   "execution_count": 69,
   "metadata": {},
   "outputs": [],
   "source": [
    "conv1_fmaps = 32\n",
    "conv1_ksize = 3\n",
    "conv1_stride = 1\n",
    "conv1_pad = \"SAME\"\n",
    "\n",
    "conv2_fmaps = 64\n",
    "conv2_ksize = 3\n",
    "conv2_stride = 2\n",
    "conv2_pad = \"SAME\"\n",
    "\n",
    "pool3_fmaps = conv2_fmaps"
   ]
  },
  {
   "cell_type": "code",
   "execution_count": 70,
   "metadata": {},
   "outputs": [],
   "source": [
    "n_fc1 = 64\n",
    "n_outputs = 10"
   ]
  },
  {
   "cell_type": "code",
   "execution_count": 71,
   "metadata": {},
   "outputs": [],
   "source": [
    "reset_graph()\n",
    "\n",
    "with tf.name_scope(\"inputs\"):\n",
    "    X = tf.placeholder(tf.float32, shape=[None, n_inputs], name=\"X\") # None, 784\n",
    "    X_reshaped = tf.reshape(X, shape=[-1, height, width, channels]) # None, 28, 28, 1\n",
    "    y = tf.placeholder(tf.int32, shape=[None], name=\"y\") # [None]"
   ]
  },
  {
   "cell_type": "code",
   "execution_count": 72,
   "metadata": {},
   "outputs": [],
   "source": [
    "reset_graph()\n",
    "\n",
    "with tf.name_scope(\"inputs\"):\n",
    "    X = tf.placeholder(tf.float32, shape=[None, n_inputs], name=\"X\") # None, 784\n",
    "    X_reshaped = tf.reshape(X, shape=[-1, height, width, channels]) # None, 28, 28, 1\n",
    "    y = tf.placeholder(tf.int32, shape=[None], name=\"y\") # [None]"
   ]
  },
  {
   "cell_type": "code",
   "execution_count": 74,
   "metadata": {},
   "outputs": [
    {
     "name": "stderr",
     "output_type": "stream",
     "text": [
      "W0624 11:59:56.238596 140670801155904 deprecation.py:323] From <ipython-input-74-6252cd028b8f>:3: conv2d (from tensorflow.python.layers.convolutional) is deprecated and will be removed in a future version.\n",
      "Instructions for updating:\n",
      "Use `tf.keras.layers.Conv2D` instead.\n"
     ]
    }
   ],
   "source": [
    "conv1 = tf.layers.conv2d(X_reshaped, filters=conv1_fmaps, kernel_size=conv1_ksize,\n",
    "                         strides=conv1_stride, padding=conv1_pad,\n",
    "                         activation=tf.nn.relu, name=\"conv1\")"
   ]
  },
  {
   "cell_type": "code",
   "execution_count": 75,
   "metadata": {},
   "outputs": [],
   "source": [
    "\n",
    "# conv1 -> None, 28, 28, 32\n",
    "conv2 = tf.layers.conv2d(conv1, filters=conv2_fmaps, kernel_size=conv2_ksize,\n",
    "                         strides=conv2_stride, padding=conv2_pad,\n",
    "                         activation=tf.nn.relu, name=\"conv2\")"
   ]
  },
  {
   "cell_type": "code",
   "execution_count": 76,
   "metadata": {},
   "outputs": [],
   "source": [
    "# conv2 -> None, 14, 14, 64\n",
    "\n",
    "with tf.name_scope(\"pool3\"):\n",
    "    pool3 = tf.nn.max_pool(conv2, ksize=[1, 2, 2, 1], strides=[1, 2, 2, 1], padding=\"VALID\")\n",
    "    # pool3 -> None, 7, 7, 64\n",
    "    pool3_flat = tf.reshape(pool3, shape=[-1, pool3_fmaps * 7 * 7])\n",
    "    #pool3_flat -> None, 64*7*7"
   ]
  },
  {
   "cell_type": "code",
   "execution_count": 77,
   "metadata": {},
   "outputs": [],
   "source": [
    "with tf.name_scope(\"fc1\"):\n",
    "    fc1 = tf.layers.dense(pool3_flat, n_fc1, activation=tf.nn.relu, name=\"fc1\")\n"
   ]
  },
  {
   "cell_type": "code",
   "execution_count": 78,
   "metadata": {},
   "outputs": [],
   "source": [
    "\n",
    "with tf.name_scope(\"output\"):\n",
    "    logits = tf.layers.dense(fc1, n_outputs, name=\"output\")\n",
    "    Y_proba = tf.nn.softmax(logits, name=\"Y_proba\")"
   ]
  },
  {
   "cell_type": "code",
   "execution_count": 79,
   "metadata": {},
   "outputs": [],
   "source": [
    "with tf.name_scope(\"train\"):\n",
    "    xentropy = tf.nn.sparse_softmax_cross_entropy_with_logits(logits=logits, labels=y)\n",
    "    loss = tf.reduce_mean(xentropy)\n",
    "    optimizer = tf.train.AdamOptimizer()\n",
    "    training_op = optimizer.minimize(loss)"
   ]
  },
  {
   "cell_type": "code",
   "execution_count": 80,
   "metadata": {},
   "outputs": [],
   "source": [
    "with tf.name_scope(\"eval\"):\n",
    "    correct = tf.nn.in_top_k(logits, y, 1)\n",
    "    accuracy = tf.reduce_mean(tf.cast(correct, tf.float32))"
   ]
  },
  {
   "cell_type": "code",
   "execution_count": 81,
   "metadata": {},
   "outputs": [],
   "source": [
    "\n",
    "with tf.name_scope(\"init_and_save\"):\n",
    "    init = tf.global_variables_initializer()\n",
    "    saver = tf.train.Saver()"
   ]
  },
  {
   "cell_type": "code",
   "execution_count": 82,
   "metadata": {},
   "outputs": [],
   "source": [
    "X_batch, y_batch = fashion_mnist.train.next_batch(batch_size)"
   ]
  },
  {
   "cell_type": "code",
   "execution_count": 83,
   "metadata": {},
   "outputs": [],
   "source": [
    "X_reshaped = X_batch.reshape((-1, 28, 28))"
   ]
  },
  {
   "cell_type": "code",
   "execution_count": 84,
   "metadata": {},
   "outputs": [
    {
     "data": {
      "text/plain": [
       "<matplotlib.image.AxesImage at 0x7ff01a14f278>"
      ]
     },
     "execution_count": 84,
     "metadata": {},
     "output_type": "execute_result"
    },
    {
     "data": {
      "image/png": "[encoded data removed]",
      "text/plain": [
       "<Figure size 432x288 with 1 Axes>"
      ]
     },
     "metadata": {
      "needs_background": "light"
     },
     "output_type": "display_data"
    }
   ],
   "source": [
    "plt.imshow(X_reshaped[1])"
   ]
  },
  {
   "cell_type": "code",
   "execution_count": 85,
   "metadata": {},
   "outputs": [
    {
     "name": "stdout",
     "output_type": "stream",
     "text": [
      "0 Train accuracy: 0.91 Test accuracy: 0.8712\n",
      "1 Train accuracy: 0.91 Test accuracy: 0.8892\n",
      "2 Train accuracy: 0.92 Test accuracy: 0.9009\n",
      "3 Train accuracy: 0.95 Test accuracy: 0.9043\n",
      "4 Train accuracy: 0.96 Test accuracy: 0.9073\n",
      "5 Train accuracy: 0.96 Test accuracy: 0.9076\n",
      "6 Train accuracy: 0.96 Test accuracy: 0.9058\n",
      "7 Train accuracy: 0.98 Test accuracy: 0.9107\n",
      "8 Train accuracy: 0.95 Test accuracy: 0.9096\n",
      "9 Train accuracy: 0.98 Test accuracy: 0.9167\n"
     ]
    }
   ],
   "source": [
    "n_epochs = 10\n",
    "batch_size = 100\n",
    "\n",
    "with tf.Session() as sess:\n",
    "    init.run()\n",
    "    for epoch in range(n_epochs):\n",
    "        for iteration in range(fashion_mnist.train.num_examples // batch_size):\n",
    "            X_batch, y_batch = fashion_mnist.train.next_batch(batch_size)\n",
    "            sess.run(training_op, feed_dict={X: X_batch, y: y_batch})\n",
    "        acc_train = accuracy.eval(feed_dict={X: X_batch, y: y_batch})\n",
    "        acc_test = accuracy.eval(feed_dict={X: fashion_mnist.test.images, y: fashion_mnist.test.labels})\n",
    "        print(epoch, \"Train accuracy:\", acc_train, \"Test accuracy:\", acc_test)\n",
    "\n",
    "        save_path = saver.save(sess, \"model_ckps/my_mnist_model_cnn\")"
   ]
  },
  {
   "cell_type": "code",
   "execution_count": 86,
   "metadata": {},
   "outputs": [],
   "source": [
    "# In 10 iterations we are able to reach an accuracy more than 91% using CNN"
   ]
  },
  {
   "cell_type": "code",
   "execution_count": 3,
   "metadata": {},
   "outputs": [],
   "source": [
    "# method 4: using keras \n",
    "# It is in different notebook in my github i.e. classification of fashion products using basic neural networks"
   ]
  },
  {
   "cell_type": "code",
   "execution_count": null,
   "metadata": {},
   "outputs": [],
   "source": []
  },
  {
   "cell_type": "code",
   "execution_count": null,
   "metadata": {},
   "outputs": [],
   "source": []
  },
  {
   "cell_type": "code",
   "execution_count": null,
   "metadata": {},
   "outputs": [],
   "source": []
  },
  {
   "cell_type": "code",
   "execution_count": null,
   "metadata": {},
   "outputs": [],
   "source": []
  },
  {
   "cell_type": "code",
   "execution_count": null,
   "metadata": {},
   "outputs": [],
   "source": []
  },
  {
   "cell_type": "code",
   "execution_count": null,
   "metadata": {},
   "outputs": [],
   "source": []
  },
  {
   "cell_type": "code",
   "execution_count": null,
   "metadata": {},
   "outputs": [],
   "source": []
  },
  {
   "cell_type": "code",
   "execution_count": null,
   "metadata": {},
   "outputs": [],
   "source": []
  },
  {
   "cell_type": "code",
   "execution_count": null,
   "metadata": {},
   "outputs": [],
   "source": []
  },
  {
   "cell_type": "code",
   "execution_count": null,
   "metadata": {},
   "outputs": [],
   "source": []
  },
  {
   "cell_type": "code",
   "execution_count": null,
   "metadata": {},
   "outputs": [],
   "source": []
  },
  {
   "cell_type": "code",
   "execution_count": null,
   "metadata": {},
   "outputs": [],
   "source": []
  },
  {
   "cell_type": "code",
   "execution_count": null,
   "metadata": {},
   "outputs": [],
   "source": []
  },
  {
   "cell_type": "code",
   "execution_count": null,
   "metadata": {},
   "outputs": [],
   "source": []
  },
  {
   "cell_type": "code",
   "execution_count": null,
   "metadata": {},
   "outputs": [],
   "source": []
  },
  {
   "cell_type": "code",
   "execution_count": null,
   "metadata": {},
   "outputs": [],
   "source": []
  },
  {
   "cell_type": "code",
   "execution_count": null,
   "metadata": {},
   "outputs": [],
   "source": []
  },
  {
   "cell_type": "code",
   "execution_count": null,
   "metadata": {},
   "outputs": [],
   "source": []
  },
  {
   "cell_type": "code",
   "execution_count": null,
   "metadata": {},
   "outputs": [],
   "source": []
  },
  {
   "cell_type": "code",
   "execution_count": null,
   "metadata": {},
   "outputs": [],
   "source": []
  },
  {
   "cell_type": "code",
   "execution_count": null,
   "metadata": {},
   "outputs": [],
   "source": []
  },
  {
   "cell_type": "code",
   "execution_count": null,
   "metadata": {},
   "outputs": [],
   "source": []
  },
  {
   "cell_type": "code",
   "execution_count": null,
   "metadata": {},
   "outputs": [],
   "source": []
  },
  {
   "cell_type": "code",
   "execution_count": null,
   "metadata": {},
   "outputs": [],
   "source": []
  },
  {
   "cell_type": "code",
   "execution_count": null,
   "metadata": {},
   "outputs": [],
   "source": []
  },
  {
   "cell_type": "code",
   "execution_count": null,
   "metadata": {},
   "outputs": [],
   "source": []
  },
  {
   "cell_type": "code",
   "execution_count": null,
   "metadata": {},
   "outputs": [],
   "source": []
  },
  {
   "cell_type": "code",
   "execution_count": null,
   "metadata": {},
   "outputs": [],
   "source": []
  }
 ],
 "metadata": {
  "kernelspec": {
   "display_name": "Python 3",
   "language": "python",
   "name": "python3"
  },
  "language_info": {
   "codemirror_mode": {
    "name": "ipython",
    "version": 3
   },
   "file_extension": ".py",
   "mimetype": "text/x-python",
   "name": "python",
   "nbconvert_exporter": "python",
   "pygments_lexer": "ipython3",
   "version": "3.6.8"
  },
  "toc": {
   "base_numbering": 1,
   "nav_menu": {},
   "number_sections": true,
   "sideBar": true,
   "skip_h1_title": false,
   "title_cell": "Table of Contents",
   "title_sidebar": "Contents",
   "toc_cell": false,
   "toc_position": {},
   "toc_section_display": true,
   "toc_window_display": false
  }
 },
 "nbformat": 4,
 "nbformat_minor": 2
}
